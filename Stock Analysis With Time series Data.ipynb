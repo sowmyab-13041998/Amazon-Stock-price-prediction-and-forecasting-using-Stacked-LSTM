{
 "cells": [
  {
   "cell_type": "markdown",
   "id": "304e5fa4",
   "metadata": {},
   "source": [
    "### Importing Libraraies"
   ]
  },
  {
   "cell_type": "code",
   "execution_count": 2,
   "id": "26ad1982",
   "metadata": {},
   "outputs": [],
   "source": [
    "import pandas as pd\n",
    "from datetime import datetime\n",
    "import pandas_datareader as pdr"
   ]
  },
  {
   "cell_type": "code",
   "execution_count": 13,
   "id": "0df75404",
   "metadata": {},
   "outputs": [],
   "source": [
    "df_pepsi = pdr.get_data_yahoo('PEP')"
   ]
  },
  {
   "cell_type": "code",
   "execution_count": 14,
   "id": "610c2abf",
   "metadata": {},
   "outputs": [
    {
     "data": {
      "text/html": [
       "<div>\n",
       "<style scoped>\n",
       "    .dataframe tbody tr th:only-of-type {\n",
       "        vertical-align: middle;\n",
       "    }\n",
       "\n",
       "    .dataframe tbody tr th {\n",
       "        vertical-align: top;\n",
       "    }\n",
       "\n",
       "    .dataframe thead th {\n",
       "        text-align: right;\n",
       "    }\n",
       "</style>\n",
       "<table border=\"1\" class=\"dataframe\">\n",
       "  <thead>\n",
       "    <tr style=\"text-align: right;\">\n",
       "      <th></th>\n",
       "      <th>High</th>\n",
       "      <th>Low</th>\n",
       "      <th>Open</th>\n",
       "      <th>Close</th>\n",
       "      <th>Volume</th>\n",
       "      <th>Adj Close</th>\n",
       "    </tr>\n",
       "    <tr>\n",
       "      <th>Date</th>\n",
       "      <th></th>\n",
       "      <th></th>\n",
       "      <th></th>\n",
       "      <th></th>\n",
       "      <th></th>\n",
       "      <th></th>\n",
       "    </tr>\n",
       "  </thead>\n",
       "  <tbody>\n",
       "    <tr>\n",
       "      <th>2017-11-21</th>\n",
       "      <td>116.330002</td>\n",
       "      <td>114.970001</td>\n",
       "      <td>114.989998</td>\n",
       "      <td>116.050003</td>\n",
       "      <td>3179300.0</td>\n",
       "      <td>100.232933</td>\n",
       "    </tr>\n",
       "    <tr>\n",
       "      <th>2017-11-22</th>\n",
       "      <td>116.000000</td>\n",
       "      <td>114.279999</td>\n",
       "      <td>115.769997</td>\n",
       "      <td>115.080002</td>\n",
       "      <td>3598500.0</td>\n",
       "      <td>99.395134</td>\n",
       "    </tr>\n",
       "    <tr>\n",
       "      <th>2017-11-24</th>\n",
       "      <td>116.300003</td>\n",
       "      <td>115.430000</td>\n",
       "      <td>115.650002</td>\n",
       "      <td>115.900002</td>\n",
       "      <td>1183000.0</td>\n",
       "      <td>100.103386</td>\n",
       "    </tr>\n",
       "    <tr>\n",
       "      <th>2017-11-27</th>\n",
       "      <td>116.400002</td>\n",
       "      <td>115.660004</td>\n",
       "      <td>116.000000</td>\n",
       "      <td>115.849998</td>\n",
       "      <td>2818900.0</td>\n",
       "      <td>100.060204</td>\n",
       "    </tr>\n",
       "    <tr>\n",
       "      <th>2017-11-28</th>\n",
       "      <td>116.830002</td>\n",
       "      <td>115.300003</td>\n",
       "      <td>116.260002</td>\n",
       "      <td>116.769997</td>\n",
       "      <td>3600400.0</td>\n",
       "      <td>100.854790</td>\n",
       "    </tr>\n",
       "  </tbody>\n",
       "</table>\n",
       "</div>"
      ],
      "text/plain": [
       "                  High         Low        Open       Close     Volume  \\\n",
       "Date                                                                    \n",
       "2017-11-21  116.330002  114.970001  114.989998  116.050003  3179300.0   \n",
       "2017-11-22  116.000000  114.279999  115.769997  115.080002  3598500.0   \n",
       "2017-11-24  116.300003  115.430000  115.650002  115.900002  1183000.0   \n",
       "2017-11-27  116.400002  115.660004  116.000000  115.849998  2818900.0   \n",
       "2017-11-28  116.830002  115.300003  116.260002  116.769997  3600400.0   \n",
       "\n",
       "             Adj Close  \n",
       "Date                    \n",
       "2017-11-21  100.232933  \n",
       "2017-11-22   99.395134  \n",
       "2017-11-24  100.103386  \n",
       "2017-11-27  100.060204  \n",
       "2017-11-28  100.854790  "
      ]
     },
     "execution_count": 14,
     "metadata": {},
     "output_type": "execute_result"
    }
   ],
   "source": [
    "df_pepsi.head()"
   ]
  },
  {
   "cell_type": "code",
   "execution_count": 15,
   "id": "318a7ff5",
   "metadata": {},
   "outputs": [
    {
     "data": {
      "text/html": [
       "<div>\n",
       "<style scoped>\n",
       "    .dataframe tbody tr th:only-of-type {\n",
       "        vertical-align: middle;\n",
       "    }\n",
       "\n",
       "    .dataframe tbody tr th {\n",
       "        vertical-align: top;\n",
       "    }\n",
       "\n",
       "    .dataframe thead th {\n",
       "        text-align: right;\n",
       "    }\n",
       "</style>\n",
       "<table border=\"1\" class=\"dataframe\">\n",
       "  <thead>\n",
       "    <tr style=\"text-align: right;\">\n",
       "      <th></th>\n",
       "      <th>High</th>\n",
       "      <th>Low</th>\n",
       "      <th>Open</th>\n",
       "      <th>Close</th>\n",
       "      <th>Volume</th>\n",
       "      <th>Adj Close</th>\n",
       "    </tr>\n",
       "    <tr>\n",
       "      <th>Date</th>\n",
       "      <th></th>\n",
       "      <th></th>\n",
       "      <th></th>\n",
       "      <th></th>\n",
       "      <th></th>\n",
       "      <th></th>\n",
       "    </tr>\n",
       "  </thead>\n",
       "  <tbody>\n",
       "    <tr>\n",
       "      <th>2022-11-14</th>\n",
       "      <td>179.179993</td>\n",
       "      <td>176.500000</td>\n",
       "      <td>178.669998</td>\n",
       "      <td>176.729996</td>\n",
       "      <td>5633000.0</td>\n",
       "      <td>176.729996</td>\n",
       "    </tr>\n",
       "    <tr>\n",
       "      <th>2022-11-15</th>\n",
       "      <td>178.699997</td>\n",
       "      <td>175.419998</td>\n",
       "      <td>178.039993</td>\n",
       "      <td>177.190002</td>\n",
       "      <td>5153600.0</td>\n",
       "      <td>177.190002</td>\n",
       "    </tr>\n",
       "    <tr>\n",
       "      <th>2022-11-16</th>\n",
       "      <td>179.630005</td>\n",
       "      <td>177.720001</td>\n",
       "      <td>178.300003</td>\n",
       "      <td>178.330002</td>\n",
       "      <td>4701100.0</td>\n",
       "      <td>178.330002</td>\n",
       "    </tr>\n",
       "    <tr>\n",
       "      <th>2022-11-17</th>\n",
       "      <td>180.160004</td>\n",
       "      <td>177.429993</td>\n",
       "      <td>177.490005</td>\n",
       "      <td>180.029999</td>\n",
       "      <td>3920300.0</td>\n",
       "      <td>180.029999</td>\n",
       "    </tr>\n",
       "    <tr>\n",
       "      <th>2022-11-18</th>\n",
       "      <td>181.839996</td>\n",
       "      <td>180.020004</td>\n",
       "      <td>180.210007</td>\n",
       "      <td>181.330002</td>\n",
       "      <td>4498100.0</td>\n",
       "      <td>181.330002</td>\n",
       "    </tr>\n",
       "  </tbody>\n",
       "</table>\n",
       "</div>"
      ],
      "text/plain": [
       "                  High         Low        Open       Close     Volume  \\\n",
       "Date                                                                    \n",
       "2022-11-14  179.179993  176.500000  178.669998  176.729996  5633000.0   \n",
       "2022-11-15  178.699997  175.419998  178.039993  177.190002  5153600.0   \n",
       "2022-11-16  179.630005  177.720001  178.300003  178.330002  4701100.0   \n",
       "2022-11-17  180.160004  177.429993  177.490005  180.029999  3920300.0   \n",
       "2022-11-18  181.839996  180.020004  180.210007  181.330002  4498100.0   \n",
       "\n",
       "             Adj Close  \n",
       "Date                    \n",
       "2022-11-14  176.729996  \n",
       "2022-11-15  177.190002  \n",
       "2022-11-16  178.330002  \n",
       "2022-11-17  180.029999  \n",
       "2022-11-18  181.330002  "
      ]
     },
     "execution_count": 15,
     "metadata": {},
     "output_type": "execute_result"
    }
   ],
   "source": [
    "df_pepsi.tail()"
   ]
  },
  {
   "cell_type": "markdown",
   "id": "508cdd4d",
   "metadata": {},
   "source": [
    "### Plotting"
   ]
  },
  {
   "cell_type": "code",
   "execution_count": 19,
   "id": "4562e3bb",
   "metadata": {},
   "outputs": [
    {
     "data": {
      "text/plain": [
       "<AxesSubplot:xlabel='Date'>"
      ]
     },
     "execution_count": 19,
     "metadata": {},
     "output_type": "execute_result"
    },
    {
     "data": {
      "image/png": "[encoded data removed]",
      "text/plain": [
       "<Figure size 864x288 with 1 Axes>"
      ]
     },
     "metadata": {
      "needs_background": "light"
     },
     "output_type": "display_data"
    }
   ],
   "source": [
    "df_pepsi['High'].plot(figsize=(12,4))"
   ]
  },
  {
   "cell_type": "markdown",
   "id": "83658545",
   "metadata": {},
   "source": [
    "### xlimit and ylimit"
   ]
  },
  {
   "cell_type": "code",
   "execution_count": 27,
   "id": "22fb37cb",
   "metadata": {
    "scrolled": true
   },
   "outputs": [
    {
     "data": {
      "text/plain": [
       "<AxesSubplot:xlabel='Date'>"
      ]
     },
     "execution_count": 27,
     "metadata": {},
     "output_type": "execute_result"
    },
    {
     "data": {
      "image/png": "[encoded data removed]",
      "text/plain": [
       "<Figure size 864x288 with 1 Axes>"
      ]
     },
     "metadata": {
      "needs_background": "light"
     },
     "output_type": "display_data"
    }
   ],
   "source": [
    "df_pepsi['High'].plot(xlim=['2020-01-01','2021-10-01'],ylim=[100,170],figsize=(12,4),c='green')"
   ]
  },
  {
   "cell_type": "code",
   "execution_count": 29,
   "id": "3c12276b",
   "metadata": {},
   "outputs": [
    {
     "data": {
      "text/plain": [
       "DatetimeIndex(['2017-11-21', '2017-11-22', '2017-11-24', '2017-11-27',\n",
       "               '2017-11-28', '2017-11-29', '2017-11-30', '2017-12-01',\n",
       "               '2017-12-04', '2017-12-05',\n",
       "               ...\n",
       "               '2022-11-07', '2022-11-08', '2022-11-09', '2022-11-10',\n",
       "               '2022-11-11', '2022-11-14', '2022-11-15', '2022-11-16',\n",
       "               '2022-11-17', '2022-11-18'],\n",
       "              dtype='datetime64[ns]', name='Date', length=1258, freq=None)"
      ]
     },
     "execution_count": 29,
     "metadata": {},
     "output_type": "execute_result"
    }
   ],
   "source": [
    "df_pepsi.index"
   ]
  },
  {
   "cell_type": "code",
   "execution_count": 32,
   "id": "5ed4733c",
   "metadata": {},
   "outputs": [],
   "source": [
    "index=df_pepsi.loc['2020-01-01':'2021-10-01'].index\n",
    "share_open =df_pepsi.loc['2020-01-01':'2021-10-01']['Open']"
   ]
  },
  {
   "cell_type": "code",
   "execution_count": 33,
   "id": "6d537fc9",
   "metadata": {},
   "outputs": [
    {
     "data": {
      "text/plain": [
       "Date\n",
       "2020-01-02    136.869995\n",
       "2020-01-03    135.460007\n",
       "2020-01-06    135.300003\n",
       "2020-01-07    136.000000\n",
       "2020-01-08    134.460007\n",
       "                 ...    \n",
       "2021-09-27    153.800003\n",
       "2021-09-28    152.369995\n",
       "2021-09-29    151.339996\n",
       "2021-09-30    153.220001\n",
       "2021-10-01    151.350006\n",
       "Name: Open, Length: 442, dtype: float64"
      ]
     },
     "execution_count": 33,
     "metadata": {},
     "output_type": "execute_result"
    }
   ],
   "source": [
    "share_open"
   ]
  },
  {
   "cell_type": "markdown",
   "id": "c1b2ffa9",
   "metadata": {},
   "source": [
    "### Visualizations"
   ]
  },
  {
   "cell_type": "code",
   "execution_count": 35,
   "id": "204b166b",
   "metadata": {},
   "outputs": [],
   "source": [
    "import matplotlib.pyplot as plt\n",
    "%matplotlib inline\n"
   ]
  },
  {
   "cell_type": "code",
   "execution_count": 39,
   "id": "59e26d5e",
   "metadata": {},
   "outputs": [
    {
     "data": {
      "text/plain": [
       "[<matplotlib.lines.Line2D at 0x20007521640>]"
      ]
     },
     "execution_count": 39,
     "metadata": {},
     "output_type": "execute_result"
    },
    {
     "data": {
      "image/png": "[encoded data removed]",
      "text/plain": [
       "<Figure size 432x288 with 1 Axes>"
      ]
     },
     "metadata": {
      "needs_background": "light"
     },
     "output_type": "display_data"
    }
   ],
   "source": [
    "figure,axis=plt.subplots()\n",
    "plt.tight_layout()\n",
    "figure.autofmt_xdate()\n",
    "axis.plot(index,share_open)"
   ]
  },
  {
   "cell_type": "markdown",
   "id": "e8ddf72e",
   "metadata": {},
   "source": [
    "### Datetime index"
   ]
  },
  {
   "cell_type": "code",
   "execution_count": 42,
   "id": "c7a4cf6a",
   "metadata": {},
   "outputs": [],
   "source": [
    "df_pepsi=df_pepsi.reset_index()"
   ]
  },
  {
   "cell_type": "code",
   "execution_count": 43,
   "id": "39eeffdc",
   "metadata": {},
   "outputs": [
    {
     "name": "stdout",
     "output_type": "stream",
     "text": [
      "<class 'pandas.core.frame.DataFrame'>\n",
      "RangeIndex: 1258 entries, 0 to 1257\n",
      "Data columns (total 7 columns):\n",
      " #   Column     Non-Null Count  Dtype         \n",
      "---  ------     --------------  -----         \n",
      " 0   Date       1258 non-null   datetime64[ns]\n",
      " 1   High       1258 non-null   float64       \n",
      " 2   Low        1258 non-null   float64       \n",
      " 3   Open       1258 non-null   float64       \n",
      " 4   Close      1258 non-null   float64       \n",
      " 5   Volume     1258 non-null   float64       \n",
      " 6   Adj Close  1258 non-null   float64       \n",
      "dtypes: datetime64[ns](1), float64(6)\n",
      "memory usage: 68.9 KB\n"
     ]
    }
   ],
   "source": [
    "df_pepsi.info()"
   ]
  },
  {
   "cell_type": "code",
   "execution_count": 44,
   "id": "2b8e202f",
   "metadata": {},
   "outputs": [
    {
     "data": {
      "text/plain": [
       "0      2017-11-21\n",
       "1      2017-11-22\n",
       "2      2017-11-24\n",
       "3      2017-11-27\n",
       "4      2017-11-28\n",
       "          ...    \n",
       "1253   2022-11-14\n",
       "1254   2022-11-15\n",
       "1255   2022-11-16\n",
       "1256   2022-11-17\n",
       "1257   2022-11-18\n",
       "Name: Date, Length: 1258, dtype: datetime64[ns]"
      ]
     },
     "execution_count": 44,
     "metadata": {},
     "output_type": "execute_result"
    }
   ],
   "source": [
    "pd.to_datetime(df_pepsi['Date'])"
   ]
  },
  {
   "cell_type": "code",
   "execution_count": 48,
   "id": "fa143394",
   "metadata": {},
   "outputs": [],
   "source": [
    "df_pepsi=df_pepsi.set_index('Date',drop=True)"
   ]
  },
  {
   "cell_type": "code",
   "execution_count": 49,
   "id": "e35912c3",
   "metadata": {},
   "outputs": [
    {
     "data": {
      "text/html": [
       "<div>\n",
       "<style scoped>\n",
       "    .dataframe tbody tr th:only-of-type {\n",
       "        vertical-align: middle;\n",
       "    }\n",
       "\n",
       "    .dataframe tbody tr th {\n",
       "        vertical-align: top;\n",
       "    }\n",
       "\n",
       "    .dataframe thead th {\n",
       "        text-align: right;\n",
       "    }\n",
       "</style>\n",
       "<table border=\"1\" class=\"dataframe\">\n",
       "  <thead>\n",
       "    <tr style=\"text-align: right;\">\n",
       "      <th></th>\n",
       "      <th>High</th>\n",
       "      <th>Low</th>\n",
       "      <th>Open</th>\n",
       "      <th>Close</th>\n",
       "      <th>Volume</th>\n",
       "      <th>Adj Close</th>\n",
       "    </tr>\n",
       "    <tr>\n",
       "      <th>Date</th>\n",
       "      <th></th>\n",
       "      <th></th>\n",
       "      <th></th>\n",
       "      <th></th>\n",
       "      <th></th>\n",
       "      <th></th>\n",
       "    </tr>\n",
       "  </thead>\n",
       "  <tbody>\n",
       "    <tr>\n",
       "      <th>2017-11-21</th>\n",
       "      <td>116.330002</td>\n",
       "      <td>114.970001</td>\n",
       "      <td>114.989998</td>\n",
       "      <td>116.050003</td>\n",
       "      <td>3179300.0</td>\n",
       "      <td>100.232933</td>\n",
       "    </tr>\n",
       "    <tr>\n",
       "      <th>2017-11-22</th>\n",
       "      <td>116.000000</td>\n",
       "      <td>114.279999</td>\n",
       "      <td>115.769997</td>\n",
       "      <td>115.080002</td>\n",
       "      <td>3598500.0</td>\n",
       "      <td>99.395134</td>\n",
       "    </tr>\n",
       "    <tr>\n",
       "      <th>2017-11-24</th>\n",
       "      <td>116.300003</td>\n",
       "      <td>115.430000</td>\n",
       "      <td>115.650002</td>\n",
       "      <td>115.900002</td>\n",
       "      <td>1183000.0</td>\n",
       "      <td>100.103386</td>\n",
       "    </tr>\n",
       "    <tr>\n",
       "      <th>2017-11-27</th>\n",
       "      <td>116.400002</td>\n",
       "      <td>115.660004</td>\n",
       "      <td>116.000000</td>\n",
       "      <td>115.849998</td>\n",
       "      <td>2818900.0</td>\n",
       "      <td>100.060204</td>\n",
       "    </tr>\n",
       "    <tr>\n",
       "      <th>2017-11-28</th>\n",
       "      <td>116.830002</td>\n",
       "      <td>115.300003</td>\n",
       "      <td>116.260002</td>\n",
       "      <td>116.769997</td>\n",
       "      <td>3600400.0</td>\n",
       "      <td>100.854790</td>\n",
       "    </tr>\n",
       "  </tbody>\n",
       "</table>\n",
       "</div>"
      ],
      "text/plain": [
       "                  High         Low        Open       Close     Volume  \\\n",
       "Date                                                                    \n",
       "2017-11-21  116.330002  114.970001  114.989998  116.050003  3179300.0   \n",
       "2017-11-22  116.000000  114.279999  115.769997  115.080002  3598500.0   \n",
       "2017-11-24  116.300003  115.430000  115.650002  115.900002  1183000.0   \n",
       "2017-11-27  116.400002  115.660004  116.000000  115.849998  2818900.0   \n",
       "2017-11-28  116.830002  115.300003  116.260002  116.769997  3600400.0   \n",
       "\n",
       "             Adj Close  \n",
       "Date                    \n",
       "2017-11-21  100.232933  \n",
       "2017-11-22   99.395134  \n",
       "2017-11-24  100.103386  \n",
       "2017-11-27  100.060204  \n",
       "2017-11-28  100.854790  "
      ]
     },
     "execution_count": 49,
     "metadata": {},
     "output_type": "execute_result"
    }
   ],
   "source": [
    "df_pepsi.head()"
   ]
  },
  {
   "cell_type": "code",
   "execution_count": 50,
   "id": "f7e3f35b",
   "metadata": {},
   "outputs": [
    {
     "data": {
      "text/plain": [
       "datetime.datetime(2021, 11, 21, 0, 0)"
      ]
     },
     "execution_count": 50,
     "metadata": {},
     "output_type": "execute_result"
    }
   ],
   "source": [
    "datetime(2021,11,21)"
   ]
  },
  {
   "cell_type": "code",
   "execution_count": 51,
   "id": "672a576f",
   "metadata": {},
   "outputs": [
    {
     "data": {
      "text/plain": [
       "datetime.datetime(2022, 11, 21, 19, 14, 20, 293793)"
      ]
     },
     "execution_count": 51,
     "metadata": {},
     "output_type": "execute_result"
    }
   ],
   "source": [
    "datetime.now()"
   ]
  },
  {
   "cell_type": "code",
   "execution_count": 52,
   "id": "4a015f02",
   "metadata": {},
   "outputs": [],
   "source": [
    "date =datetime(2021,11,21)"
   ]
  },
  {
   "cell_type": "code",
   "execution_count": 53,
   "id": "40ac384f",
   "metadata": {},
   "outputs": [
    {
     "data": {
      "text/plain": [
       "datetime.datetime(2021, 11, 21, 0, 0)"
      ]
     },
     "execution_count": 53,
     "metadata": {},
     "output_type": "execute_result"
    }
   ],
   "source": [
    "date"
   ]
  },
  {
   "cell_type": "code",
   "execution_count": 54,
   "id": "e607ede1",
   "metadata": {},
   "outputs": [
    {
     "data": {
      "text/plain": [
       "datetime.date(2021, 11, 21)"
      ]
     },
     "execution_count": 54,
     "metadata": {},
     "output_type": "execute_result"
    }
   ],
   "source": [
    "date.date()"
   ]
  },
  {
   "cell_type": "code",
   "execution_count": 55,
   "id": "dc0f1565",
   "metadata": {},
   "outputs": [
    {
     "data": {
      "text/plain": [
       "21"
      ]
     },
     "execution_count": 55,
     "metadata": {},
     "output_type": "execute_result"
    }
   ],
   "source": [
    "date.day"
   ]
  },
  {
   "cell_type": "code",
   "execution_count": 57,
   "id": "00ea4562",
   "metadata": {},
   "outputs": [
    {
     "data": {
      "text/plain": [
       "6"
      ]
     },
     "execution_count": 57,
     "metadata": {},
     "output_type": "execute_result"
    }
   ],
   "source": [
    "date.weekday()"
   ]
  },
  {
   "cell_type": "code",
   "execution_count": 58,
   "id": "f56f9386",
   "metadata": {},
   "outputs": [
    {
     "data": {
      "text/plain": [
       "2021"
      ]
     },
     "execution_count": 58,
     "metadata": {},
     "output_type": "execute_result"
    }
   ],
   "source": [
    "date.year"
   ]
  },
  {
   "cell_type": "code",
   "execution_count": 59,
   "id": "ff296ac1",
   "metadata": {},
   "outputs": [
    {
     "data": {
      "text/plain": [
       "11"
      ]
     },
     "execution_count": 59,
     "metadata": {},
     "output_type": "execute_result"
    }
   ],
   "source": [
    "date.month"
   ]
  },
  {
   "cell_type": "markdown",
   "id": "14bb7b3b",
   "metadata": {},
   "source": [
    "### Time Resampling"
   ]
  },
  {
   "cell_type": "code",
   "execution_count": 60,
   "id": "0beac36d",
   "metadata": {},
   "outputs": [
    {
     "data": {
      "text/html": [
       "<div>\n",
       "<style scoped>\n",
       "    .dataframe tbody tr th:only-of-type {\n",
       "        vertical-align: middle;\n",
       "    }\n",
       "\n",
       "    .dataframe tbody tr th {\n",
       "        vertical-align: top;\n",
       "    }\n",
       "\n",
       "    .dataframe thead th {\n",
       "        text-align: right;\n",
       "    }\n",
       "</style>\n",
       "<table border=\"1\" class=\"dataframe\">\n",
       "  <thead>\n",
       "    <tr style=\"text-align: right;\">\n",
       "      <th></th>\n",
       "      <th>High</th>\n",
       "      <th>Low</th>\n",
       "      <th>Open</th>\n",
       "      <th>Close</th>\n",
       "      <th>Volume</th>\n",
       "      <th>Adj Close</th>\n",
       "    </tr>\n",
       "    <tr>\n",
       "      <th>Date</th>\n",
       "      <th></th>\n",
       "      <th></th>\n",
       "      <th></th>\n",
       "      <th></th>\n",
       "      <th></th>\n",
       "      <th></th>\n",
       "    </tr>\n",
       "  </thead>\n",
       "  <tbody>\n",
       "    <tr>\n",
       "      <th>2017-11-21</th>\n",
       "      <td>116.330002</td>\n",
       "      <td>114.970001</td>\n",
       "      <td>114.989998</td>\n",
       "      <td>116.050003</td>\n",
       "      <td>3179300.0</td>\n",
       "      <td>100.232933</td>\n",
       "    </tr>\n",
       "    <tr>\n",
       "      <th>2017-11-22</th>\n",
       "      <td>116.000000</td>\n",
       "      <td>114.279999</td>\n",
       "      <td>115.769997</td>\n",
       "      <td>115.080002</td>\n",
       "      <td>3598500.0</td>\n",
       "      <td>99.395134</td>\n",
       "    </tr>\n",
       "    <tr>\n",
       "      <th>2017-11-24</th>\n",
       "      <td>116.300003</td>\n",
       "      <td>115.430000</td>\n",
       "      <td>115.650002</td>\n",
       "      <td>115.900002</td>\n",
       "      <td>1183000.0</td>\n",
       "      <td>100.103386</td>\n",
       "    </tr>\n",
       "    <tr>\n",
       "      <th>2017-11-27</th>\n",
       "      <td>116.400002</td>\n",
       "      <td>115.660004</td>\n",
       "      <td>116.000000</td>\n",
       "      <td>115.849998</td>\n",
       "      <td>2818900.0</td>\n",
       "      <td>100.060204</td>\n",
       "    </tr>\n",
       "    <tr>\n",
       "      <th>2017-11-28</th>\n",
       "      <td>116.830002</td>\n",
       "      <td>115.300003</td>\n",
       "      <td>116.260002</td>\n",
       "      <td>116.769997</td>\n",
       "      <td>3600400.0</td>\n",
       "      <td>100.854790</td>\n",
       "    </tr>\n",
       "  </tbody>\n",
       "</table>\n",
       "</div>"
      ],
      "text/plain": [
       "                  High         Low        Open       Close     Volume  \\\n",
       "Date                                                                    \n",
       "2017-11-21  116.330002  114.970001  114.989998  116.050003  3179300.0   \n",
       "2017-11-22  116.000000  114.279999  115.769997  115.080002  3598500.0   \n",
       "2017-11-24  116.300003  115.430000  115.650002  115.900002  1183000.0   \n",
       "2017-11-27  116.400002  115.660004  116.000000  115.849998  2818900.0   \n",
       "2017-11-28  116.830002  115.300003  116.260002  116.769997  3600400.0   \n",
       "\n",
       "             Adj Close  \n",
       "Date                    \n",
       "2017-11-21  100.232933  \n",
       "2017-11-22   99.395134  \n",
       "2017-11-24  100.103386  \n",
       "2017-11-27  100.060204  \n",
       "2017-11-28  100.854790  "
      ]
     },
     "execution_count": 60,
     "metadata": {},
     "output_type": "execute_result"
    }
   ],
   "source": [
    "df_pepsi.head()"
   ]
  },
  {
   "cell_type": "code",
   "execution_count": 62,
   "id": "fabe50a9",
   "metadata": {},
   "outputs": [
    {
     "data": {
      "text/html": [
       "<div>\n",
       "<style scoped>\n",
       "    .dataframe tbody tr th:only-of-type {\n",
       "        vertical-align: middle;\n",
       "    }\n",
       "\n",
       "    .dataframe tbody tr th {\n",
       "        vertical-align: top;\n",
       "    }\n",
       "\n",
       "    .dataframe thead th {\n",
       "        text-align: right;\n",
       "    }\n",
       "</style>\n",
       "<table border=\"1\" class=\"dataframe\">\n",
       "  <thead>\n",
       "    <tr style=\"text-align: right;\">\n",
       "      <th></th>\n",
       "      <th>High</th>\n",
       "      <th>Low</th>\n",
       "      <th>Open</th>\n",
       "      <th>Close</th>\n",
       "      <th>Volume</th>\n",
       "      <th>Adj Close</th>\n",
       "    </tr>\n",
       "    <tr>\n",
       "      <th>Date</th>\n",
       "      <th></th>\n",
       "      <th></th>\n",
       "      <th></th>\n",
       "      <th></th>\n",
       "      <th></th>\n",
       "      <th></th>\n",
       "    </tr>\n",
       "  </thead>\n",
       "  <tbody>\n",
       "    <tr>\n",
       "      <th>2017-12-31</th>\n",
       "      <td>116.000000</td>\n",
       "      <td>114.279999</td>\n",
       "      <td>114.989998</td>\n",
       "      <td>115.080002</td>\n",
       "      <td>1183000.0</td>\n",
       "      <td>99.395134</td>\n",
       "    </tr>\n",
       "    <tr>\n",
       "      <th>2018-12-31</th>\n",
       "      <td>97.239998</td>\n",
       "      <td>95.940002</td>\n",
       "      <td>96.430000</td>\n",
       "      <td>96.160004</td>\n",
       "      <td>1444700.0</td>\n",
       "      <td>84.248093</td>\n",
       "    </tr>\n",
       "    <tr>\n",
       "      <th>2019-12-31</th>\n",
       "      <td>107.959999</td>\n",
       "      <td>106.730003</td>\n",
       "      <td>107.410004</td>\n",
       "      <td>107.320000</td>\n",
       "      <td>1220600.0</td>\n",
       "      <td>96.434982</td>\n",
       "    </tr>\n",
       "    <tr>\n",
       "      <th>2020-12-31</th>\n",
       "      <td>112.870003</td>\n",
       "      <td>101.419998</td>\n",
       "      <td>106.000000</td>\n",
       "      <td>103.930000</td>\n",
       "      <td>883300.0</td>\n",
       "      <td>96.808899</td>\n",
       "    </tr>\n",
       "    <tr>\n",
       "      <th>2021-12-31</th>\n",
       "      <td>130.529999</td>\n",
       "      <td>128.320007</td>\n",
       "      <td>129.250000</td>\n",
       "      <td>128.830002</td>\n",
       "      <td>1958700.0</td>\n",
       "      <td>122.966789</td>\n",
       "    </tr>\n",
       "    <tr>\n",
       "      <th>2022-12-31</th>\n",
       "      <td>156.250000</td>\n",
       "      <td>153.369995</td>\n",
       "      <td>155.149994</td>\n",
       "      <td>153.729996</td>\n",
       "      <td>2575000.0</td>\n",
       "      <td>151.648987</td>\n",
       "    </tr>\n",
       "  </tbody>\n",
       "</table>\n",
       "</div>"
      ],
      "text/plain": [
       "                  High         Low        Open       Close     Volume  \\\n",
       "Date                                                                    \n",
       "2017-12-31  116.000000  114.279999  114.989998  115.080002  1183000.0   \n",
       "2018-12-31   97.239998   95.940002   96.430000   96.160004  1444700.0   \n",
       "2019-12-31  107.959999  106.730003  107.410004  107.320000  1220600.0   \n",
       "2020-12-31  112.870003  101.419998  106.000000  103.930000   883300.0   \n",
       "2021-12-31  130.529999  128.320007  129.250000  128.830002  1958700.0   \n",
       "2022-12-31  156.250000  153.369995  155.149994  153.729996  2575000.0   \n",
       "\n",
       "             Adj Close  \n",
       "Date                    \n",
       "2017-12-31   99.395134  \n",
       "2018-12-31   84.248093  \n",
       "2019-12-31   96.434982  \n",
       "2020-12-31   96.808899  \n",
       "2021-12-31  122.966789  \n",
       "2022-12-31  151.648987  "
      ]
     },
     "execution_count": 62,
     "metadata": {},
     "output_type": "execute_result"
    }
   ],
   "source": [
    "df_pepsi.resample(rule='A').min()"
   ]
  },
  {
   "cell_type": "code",
   "execution_count": 65,
   "id": "e07ff5ef",
   "metadata": {},
   "outputs": [
    {
     "data": {
      "text/html": [
       "<div>\n",
       "<style scoped>\n",
       "    .dataframe tbody tr th:only-of-type {\n",
       "        vertical-align: middle;\n",
       "    }\n",
       "\n",
       "    .dataframe tbody tr th {\n",
       "        vertical-align: top;\n",
       "    }\n",
       "\n",
       "    .dataframe thead th {\n",
       "        text-align: right;\n",
       "    }\n",
       "</style>\n",
       "<table border=\"1\" class=\"dataframe\">\n",
       "  <thead>\n",
       "    <tr style=\"text-align: right;\">\n",
       "      <th></th>\n",
       "      <th>High</th>\n",
       "      <th>Low</th>\n",
       "      <th>Open</th>\n",
       "      <th>Close</th>\n",
       "      <th>Volume</th>\n",
       "      <th>Adj Close</th>\n",
       "    </tr>\n",
       "    <tr>\n",
       "      <th>Date</th>\n",
       "      <th></th>\n",
       "      <th></th>\n",
       "      <th></th>\n",
       "      <th></th>\n",
       "      <th></th>\n",
       "      <th></th>\n",
       "    </tr>\n",
       "  </thead>\n",
       "  <tbody>\n",
       "    <tr>\n",
       "      <th>2017-12-31</th>\n",
       "      <td>120.570000</td>\n",
       "      <td>119.419998</td>\n",
       "      <td>119.459999</td>\n",
       "      <td>119.919998</td>\n",
       "      <td>7173500.0</td>\n",
       "      <td>104.294037</td>\n",
       "    </tr>\n",
       "    <tr>\n",
       "      <th>2018-12-31</th>\n",
       "      <td>122.510002</td>\n",
       "      <td>120.849998</td>\n",
       "      <td>121.379997</td>\n",
       "      <td>121.940002</td>\n",
       "      <td>27559700.0</td>\n",
       "      <td>108.708961</td>\n",
       "    </tr>\n",
       "    <tr>\n",
       "      <th>2019-12-31</th>\n",
       "      <td>140.449997</td>\n",
       "      <td>137.970001</td>\n",
       "      <td>139.289993</td>\n",
       "      <td>140.279999</td>\n",
       "      <td>18194200.0</td>\n",
       "      <td>128.889099</td>\n",
       "    </tr>\n",
       "    <tr>\n",
       "      <th>2020-12-31</th>\n",
       "      <td>148.770004</td>\n",
       "      <td>147.009995</td>\n",
       "      <td>147.679993</td>\n",
       "      <td>148.300003</td>\n",
       "      <td>20338200.0</td>\n",
       "      <td>141.210907</td>\n",
       "    </tr>\n",
       "    <tr>\n",
       "      <th>2021-12-31</th>\n",
       "      <td>174.020004</td>\n",
       "      <td>172.229996</td>\n",
       "      <td>173.539993</td>\n",
       "      <td>173.710007</td>\n",
       "      <td>16114400.0</td>\n",
       "      <td>170.238831</td>\n",
       "    </tr>\n",
       "    <tr>\n",
       "      <th>2022-12-31</th>\n",
       "      <td>183.580002</td>\n",
       "      <td>180.539993</td>\n",
       "      <td>182.649994</td>\n",
       "      <td>182.229996</td>\n",
       "      <td>13610000.0</td>\n",
       "      <td>182.229996</td>\n",
       "    </tr>\n",
       "  </tbody>\n",
       "</table>\n",
       "</div>"
      ],
      "text/plain": [
       "                  High         Low        Open       Close      Volume  \\\n",
       "Date                                                                     \n",
       "2017-12-31  120.570000  119.419998  119.459999  119.919998   7173500.0   \n",
       "2018-12-31  122.510002  120.849998  121.379997  121.940002  27559700.0   \n",
       "2019-12-31  140.449997  137.970001  139.289993  140.279999  18194200.0   \n",
       "2020-12-31  148.770004  147.009995  147.679993  148.300003  20338200.0   \n",
       "2021-12-31  174.020004  172.229996  173.539993  173.710007  16114400.0   \n",
       "2022-12-31  183.580002  180.539993  182.649994  182.229996  13610000.0   \n",
       "\n",
       "             Adj Close  \n",
       "Date                    \n",
       "2017-12-31  104.294037  \n",
       "2018-12-31  108.708961  \n",
       "2019-12-31  128.889099  \n",
       "2020-12-31  141.210907  \n",
       "2021-12-31  170.238831  \n",
       "2022-12-31  182.229996  "
      ]
     },
     "execution_count": 65,
     "metadata": {},
     "output_type": "execute_result"
    }
   ],
   "source": [
    "# Year end frequency- A\n",
    "df_pepsi.resample(rule='A').max()"
   ]
  },
  {
   "cell_type": "code",
   "execution_count": 64,
   "id": "8a9cc198",
   "metadata": {},
   "outputs": [
    {
     "data": {
      "text/plain": [
       "<AxesSubplot:xlabel='Date'>"
      ]
     },
     "execution_count": 64,
     "metadata": {},
     "output_type": "execute_result"
    },
    {
     "data": {
      "image/png": "[encoded data removed]",
      "text/plain": [
       "<Figure size 432x288 with 1 Axes>"
      ]
     },
     "metadata": {
      "needs_background": "light"
     },
     "output_type": "display_data"
    }
   ],
   "source": [
    "df_pepsi.resample(rule='A').min()['Open'].plot()"
   ]
  },
  {
   "cell_type": "code",
   "execution_count": 66,
   "id": "e00875e4",
   "metadata": {},
   "outputs": [
    {
     "data": {
      "text/plain": [
       "<AxesSubplot:xlabel='Date'>"
      ]
     },
     "execution_count": 66,
     "metadata": {},
     "output_type": "execute_result"
    },
    {
     "data": {
      "image/png": "[encoded data removed]",
      "text/plain": [
       "<Figure size 432x288 with 1 Axes>"
      ]
     },
     "metadata": {
      "needs_background": "light"
     },
     "output_type": "display_data"
    }
   ],
   "source": [
    "# Quarterly-QS\n",
    "df_pepsi.resample(rule='QS').max()['High'].plot()"
   ]
  },
  {
   "cell_type": "code",
   "execution_count": 67,
   "id": "4ded9d3e",
   "metadata": {},
   "outputs": [
    {
     "data": {
      "text/plain": [
       "<AxesSubplot:xlabel='Date'>"
      ]
     },
     "execution_count": 67,
     "metadata": {},
     "output_type": "execute_result"
    },
    {
     "data": {
      "image/png": "[encoded data removed]",
      "text/plain": [
       "<Figure size 432x288 with 1 Axes>"
      ]
     },
     "metadata": {
      "needs_background": "light"
     },
     "output_type": "display_data"
    }
   ],
   "source": [
    "# Business end frequency\n",
    "df_pepsi.resample(rule='BA').max()['High'].plot()"
   ]
  },
  {
   "cell_type": "code",
   "execution_count": 71,
   "id": "9ba544e2",
   "metadata": {},
   "outputs": [
    {
     "data": {
      "text/plain": [
       "<AxesSubplot:xlabel='Date'>"
      ]
     },
     "execution_count": 71,
     "metadata": {},
     "output_type": "execute_result"
    },
    {
     "data": {
      "image/png": "[encoded data removed]",
      "text/plain": [
       "<Figure size 1080x432 with 1 Axes>"
      ]
     },
     "metadata": {
      "needs_background": "light"
     },
     "output_type": "display_data"
    }
   ],
   "source": [
    "df_pepsi['Open'].resample(rule='M').max().plot(kind='bar',figsize=(15,6))"
   ]
  },
  {
   "cell_type": "code",
   "execution_count": 75,
   "id": "fc3e8cec",
   "metadata": {},
   "outputs": [
    {
     "data": {
      "text/plain": [
       "Date\n",
       "2017-11-21           NaN\n",
       "2017-11-22           NaN\n",
       "2017-11-24           NaN\n",
       "2017-11-27           NaN\n",
       "2017-11-28           NaN\n",
       "2017-11-29           NaN\n",
       "2017-11-30           NaN\n",
       "2017-12-01           NaN\n",
       "2017-12-04           NaN\n",
       "2017-12-05    116.944000\n",
       "2017-12-06    117.202000\n",
       "2017-12-07    117.466000\n",
       "2017-12-08    117.496000\n",
       "2017-12-11    117.600000\n",
       "2017-12-12    117.754000\n",
       "2017-12-13    117.837000\n",
       "2017-12-14    117.976000\n",
       "2017-12-15    118.227000\n",
       "2017-12-18    118.381001\n",
       "2017-12-19    118.526000\n",
       "Name: High, dtype: float64"
      ]
     },
     "execution_count": 75,
     "metadata": {},
     "output_type": "execute_result"
    }
   ],
   "source": [
    "df_pepsi['High'].rolling(10).mean().head(20)"
   ]
  },
  {
   "cell_type": "code",
   "execution_count": 76,
   "id": "77c9a4b1",
   "metadata": {},
   "outputs": [],
   "source": [
    "df_pepsi['Open:30 days rolling']=df_pepsi['Open'].rolling(30).mean()"
   ]
  },
  {
   "cell_type": "code",
   "execution_count": 77,
   "id": "7f8a82f7",
   "metadata": {},
   "outputs": [
    {
     "data": {
      "text/html": [
       "<div>\n",
       "<style scoped>\n",
       "    .dataframe tbody tr th:only-of-type {\n",
       "        vertical-align: middle;\n",
       "    }\n",
       "\n",
       "    .dataframe tbody tr th {\n",
       "        vertical-align: top;\n",
       "    }\n",
       "\n",
       "    .dataframe thead th {\n",
       "        text-align: right;\n",
       "    }\n",
       "</style>\n",
       "<table border=\"1\" class=\"dataframe\">\n",
       "  <thead>\n",
       "    <tr style=\"text-align: right;\">\n",
       "      <th></th>\n",
       "      <th>High</th>\n",
       "      <th>Low</th>\n",
       "      <th>Open</th>\n",
       "      <th>Close</th>\n",
       "      <th>Volume</th>\n",
       "      <th>Adj Close</th>\n",
       "      <th>Open:30 days rolling</th>\n",
       "    </tr>\n",
       "    <tr>\n",
       "      <th>Date</th>\n",
       "      <th></th>\n",
       "      <th></th>\n",
       "      <th></th>\n",
       "      <th></th>\n",
       "      <th></th>\n",
       "      <th></th>\n",
       "      <th></th>\n",
       "    </tr>\n",
       "  </thead>\n",
       "  <tbody>\n",
       "    <tr>\n",
       "      <th>2017-11-21</th>\n",
       "      <td>116.330002</td>\n",
       "      <td>114.970001</td>\n",
       "      <td>114.989998</td>\n",
       "      <td>116.050003</td>\n",
       "      <td>3179300.0</td>\n",
       "      <td>100.232933</td>\n",
       "      <td>NaN</td>\n",
       "    </tr>\n",
       "    <tr>\n",
       "      <th>2017-11-22</th>\n",
       "      <td>116.000000</td>\n",
       "      <td>114.279999</td>\n",
       "      <td>115.769997</td>\n",
       "      <td>115.080002</td>\n",
       "      <td>3598500.0</td>\n",
       "      <td>99.395134</td>\n",
       "      <td>NaN</td>\n",
       "    </tr>\n",
       "    <tr>\n",
       "      <th>2017-11-24</th>\n",
       "      <td>116.300003</td>\n",
       "      <td>115.430000</td>\n",
       "      <td>115.650002</td>\n",
       "      <td>115.900002</td>\n",
       "      <td>1183000.0</td>\n",
       "      <td>100.103386</td>\n",
       "      <td>NaN</td>\n",
       "    </tr>\n",
       "    <tr>\n",
       "      <th>2017-11-27</th>\n",
       "      <td>116.400002</td>\n",
       "      <td>115.660004</td>\n",
       "      <td>116.000000</td>\n",
       "      <td>115.849998</td>\n",
       "      <td>2818900.0</td>\n",
       "      <td>100.060204</td>\n",
       "      <td>NaN</td>\n",
       "    </tr>\n",
       "    <tr>\n",
       "      <th>2017-11-28</th>\n",
       "      <td>116.830002</td>\n",
       "      <td>115.300003</td>\n",
       "      <td>116.260002</td>\n",
       "      <td>116.769997</td>\n",
       "      <td>3600400.0</td>\n",
       "      <td>100.854790</td>\n",
       "      <td>NaN</td>\n",
       "    </tr>\n",
       "  </tbody>\n",
       "</table>\n",
       "</div>"
      ],
      "text/plain": [
       "                  High         Low        Open       Close     Volume  \\\n",
       "Date                                                                    \n",
       "2017-11-21  116.330002  114.970001  114.989998  116.050003  3179300.0   \n",
       "2017-11-22  116.000000  114.279999  115.769997  115.080002  3598500.0   \n",
       "2017-11-24  116.300003  115.430000  115.650002  115.900002  1183000.0   \n",
       "2017-11-27  116.400002  115.660004  116.000000  115.849998  2818900.0   \n",
       "2017-11-28  116.830002  115.300003  116.260002  116.769997  3600400.0   \n",
       "\n",
       "             Adj Close  Open:30 days rolling  \n",
       "Date                                          \n",
       "2017-11-21  100.232933                   NaN  \n",
       "2017-11-22   99.395134                   NaN  \n",
       "2017-11-24  100.103386                   NaN  \n",
       "2017-11-27  100.060204                   NaN  \n",
       "2017-11-28  100.854790                   NaN  "
      ]
     },
     "execution_count": 77,
     "metadata": {},
     "output_type": "execute_result"
    }
   ],
   "source": [
    "df_pepsi.head()"
   ]
  },
  {
   "cell_type": "code",
   "execution_count": 78,
   "id": "c0e21921",
   "metadata": {},
   "outputs": [
    {
     "data": {
      "text/plain": [
       "<AxesSubplot:xlabel='Date'>"
      ]
     },
     "execution_count": 78,
     "metadata": {},
     "output_type": "execute_result"
    },
    {
     "data": {
      "image/png": "[encoded data removed]",
      "text/plain": [
       "<Figure size 864x432 with 1 Axes>"
      ]
     },
     "metadata": {
      "needs_background": "light"
     },
     "output_type": "display_data"
    }
   ],
   "source": [
    "df_pepsi[['Open','Open:30 days rolling']].plot(figsize=(12,6))"
   ]
  },
  {
   "cell_type": "code",
   "execution_count": null,
   "id": "df9ad770",
   "metadata": {},
   "outputs": [],
   "source": []
  }
 ],
 "metadata": {
  "kernelspec": {
   "display_name": "Python 3 (ipykernel)",
   "language": "python",
   "name": "python3"
  },
  "language_info": {
   "codemirror_mode": {
    "name": "ipython",
    "version": 3
   },
   "file_extension": ".py",
   "mimetype": "text/x-python",
   "name": "python",
   "nbconvert_exporter": "python",
   "pygments_lexer": "ipython3",
   "version": "3.9.7"
  }
 },
 "nbformat": 4,
 "nbformat_minor": 5
}
